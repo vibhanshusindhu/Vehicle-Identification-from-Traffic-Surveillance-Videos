{
 "cells": [
  {
   "cell_type": "markdown",
   "metadata": {
    "id": "SD6fC1NI23BC"
   },
   "source": [
    "**VEHICLE IDENTIFICATION MODEL**"
   ]
  },
  {
   "cell_type": "markdown",
   "metadata": {
    "id": "_uJyQZiaIEOy"
   },
   "source": [
    "**Get the runtime details**"
   ]
  },
  {
   "cell_type": "code",
   "execution_count": null,
   "metadata": {
    "id": "ug9w23rqyygI"
   },
   "outputs": [],
   "source": [
    "%cat/etc/lsb-release"
   ]
  },
  {
   "cell_type": "markdown",
   "metadata": {
    "id": "Pyo1cuJWv8Uj"
   },
   "source": [
    "**Update the repo list**\n"
   ]
  },
  {
   "cell_type": "code",
   "execution_count": null,
   "metadata": {
    "id": "URUkar2FzHFK"
   },
   "outputs": [],
   "source": [
    "!apt-get update"
   ]
  },
  {
   "cell_type": "markdown",
   "metadata": {
    "id": "rVeDSF02wC9l"
   },
   "source": [
    "**show the current working directory**"
   ]
  },
  {
   "cell_type": "code",
   "execution_count": null,
   "metadata": {
    "id": "R0Lhbj2JzLyD"
   },
   "outputs": [],
   "source": [
    "%pwd"
   ]
  },
  {
   "cell_type": "markdown",
   "metadata": {
    "id": "hxgh2JPTwLh1"
   },
   "source": [
    "**Unzip the darknet zip file to the /content folder**"
   ]
  },
  {
   "cell_type": "code",
   "execution_count": null,
   "metadata": {
    "id": "eW_wcAGIzRKM"
   },
   "outputs": [],
   "source": [
    "!unzip \"/content/drive/My Drive/custom_vehicle_model/darknet.zip\""
   ]
  },
  {
   "cell_type": "markdown",
   "metadata": {
    "id": "4rOXcDGUwiXl"
   },
   "source": [
    "**Go inside the darknet folder of our runtime**"
   ]
  },
  {
   "cell_type": "code",
   "execution_count": null,
   "metadata": {
    "id": "aH85m09_zYMa"
   },
   "outputs": [],
   "source": [
    "%cd /content/darknet"
   ]
  },
  {
   "cell_type": "markdown",
   "metadata": {
    "id": "ywPdkC9VwxN1"
   },
   "source": [
    "**Install dos2unix to convert dos files to unix encoding**"
   ]
  },
  {
   "cell_type": "code",
   "execution_count": null,
   "metadata": {
    "id": "Z-oxITc-zcSq"
   },
   "outputs": [],
   "source": [
    "!sudo apt install dos2unix"
   ]
  },
  {
   "cell_type": "markdown",
   "metadata": {
    "id": "uxCf8iqOw2vw"
   },
   "source": [
    "**Convert all files in darknet folder to unix encoding**"
   ]
  },
  {
   "cell_type": "code",
   "execution_count": null,
   "metadata": {
    "id": "5QpKNIShzhMp"
   },
   "outputs": [],
   "source": [
    "!find . -type f -print0 | xargs -0 dos2unix"
   ]
  },
  {
   "cell_type": "markdown",
   "metadata": {
    "id": "NSwu34Imw-Nl"
   },
   "source": [
    "**Give executable permission for files in /content/darknet**"
   ]
  },
  {
   "cell_type": "code",
   "execution_count": null,
   "metadata": {
    "id": "aKGWx6KPzmUN"
   },
   "outputs": [],
   "source": [
    "!chmod +x /content/darknet"
   ]
  },
  {
   "cell_type": "markdown",
   "metadata": {
    "id": "8MmMrHcjxLa-"
   },
   "source": [
    "**make sure of the current working directory**"
   ]
  },
  {
   "cell_type": "code",
   "execution_count": null,
   "metadata": {
    "id": "_ZcjrpClzsQg"
   },
   "outputs": [],
   "source": [
    "%pwd"
   ]
  },
  {
   "cell_type": "markdown",
   "metadata": {
    "id": "qqQh5fzpxSVO"
   },
   "source": [
    "**Compile the darknet framework**"
   ]
  },
  {
   "cell_type": "code",
   "execution_count": null,
   "metadata": {
    "id": "3UX60LNqzw27"
   },
   "outputs": [],
   "source": [
    "!make"
   ]
  },
  {
   "cell_type": "markdown",
   "metadata": {
    "id": "b8Dt89AcyJqU"
   },
   "source": [
    "**Test the darknet framework with sample object detection**"
   ]
  },
  {
   "cell_type": "code",
   "execution_count": null,
   "metadata": {
    "id": "dDZXQ-yrz05P"
   },
   "outputs": [],
   "source": [
    "!./darknet detector test cfg/coco.data cfg/yolov4.cfg yolov4.weights data/person.jpg"
   ]
  },
  {
   "cell_type": "markdown",
   "metadata": {
    "id": "lb0ClT530LYv"
   },
   "source": [
    "**Remove the backup folder of darknet in runtime**"
   ]
  },
  {
   "cell_type": "code",
   "execution_count": null,
   "metadata": {
    "id": "o0kq5kDSz6zQ"
   },
   "outputs": [],
   "source": [
    "!rm /content/darknet/backup -r"
   ]
  },
  {
   "cell_type": "markdown",
   "metadata": {
    "id": "gA4rXauC0j91"
   },
   "source": [
    "**Create a symbolic link from runtime darknet folder to google drive backup folder with the name 'backup'**"
   ]
  },
  {
   "cell_type": "code",
   "execution_count": null,
   "metadata": {
    "id": "2rUSn4Oxz_qC"
   },
   "outputs": [],
   "source": [
    "!ln -s /content/drive/'My Drive'/obj_weights/backup /content/darknet"
   ]
  },
  {
   "cell_type": "markdown",
   "metadata": {
    "id": "KrrjL2oG1K3c"
   },
   "source": [
    "**check the directory**"
   ]
  },
  {
   "cell_type": "code",
   "execution_count": null,
   "metadata": {
    "id": "IFZwhp_v0FN-"
   },
   "outputs": [],
   "source": [
    "%pwd"
   ]
  },
  {
   "cell_type": "markdown",
   "metadata": {
    "id": "-07zjiWFBugo"
   },
   "source": [
    "**Proceed with fresh training using the vehicle dataset**"
   ]
  },
  {
   "cell_type": "code",
   "execution_count": null,
   "metadata": {
    "id": "g5YNJAEVKqgI"
   },
   "outputs": [],
   "source": [
    "!./darknet detector train obj_data/obj.data obj_yolov4.cfg yolov4.conv.137 -map -dont_show"
   ]
  },
  {
   "cell_type": "markdown",
   "metadata": {
    "id": "Dn3ICgMAmVDK"
   },
   "source": [
    "**Resume training from the last best weight file if required**"
   ]
  },
  {
   "cell_type": "code",
   "execution_count": null,
   "metadata": {
    "id": "vNhaAaDb0msD"
   },
   "outputs": [],
   "source": [
    "!./darknet detector train obj_data/obj.data obj_yolov4.cfg /content/drive/'My Drive'/obj_weights/backup/obj_yolov4_best.weights -map -dont_show"
   ]
  },
  {
   "cell_type": "markdown",
   "metadata": {
    "id": "Px_2cj9HBY27"
   },
   "source": [
    "**Resume training from the last best weight file if required**"
   ]
  },
  {
   "cell_type": "code",
   "execution_count": null,
   "metadata": {
    "id": "Ypawx6USBbQ4"
   },
   "outputs": [],
   "source": [
    "!./darknet detector train obj_data/obj.data obj_yolov4.cfg /content/drive/'My Drive'/obj_weights/backup/obj_yolov4_best.weights -map -dont_show"
   ]
  },
  {
   "cell_type": "markdown",
   "metadata": {
    "id": "FSsH0o-IwZ2b"
   },
   "source": [
    "**Resume training from the last best weight file if required**"
   ]
  },
  {
   "cell_type": "code",
   "execution_count": null,
   "metadata": {
    "id": "S9HTjnydrw6O"
   },
   "outputs": [],
   "source": [
    "!./darknet detector train obj_data/obj.data obj_yolov4.cfg /content/drive/'My Drive'/obj_weights/backup/obj_yolov4_best.weights -map -dont_show"
   ]
  }
 ],
 "metadata": {
  "colab": {
   "name": "Untitled0.ipynb",
   "provenance": []
  },
  "kernelspec": {
   "display_name": "Python 3",
   "language": "python",
   "name": "python3"
  },
  "language_info": {
   "codemirror_mode": {
    "name": "ipython",
    "version": 3
   },
   "file_extension": ".py",
   "mimetype": "text/x-python",
   "name": "python",
   "nbconvert_exporter": "python",
   "pygments_lexer": "ipython3",
   "version": "3.8.5"
  }
 },
 "nbformat": 4,
 "nbformat_minor": 1
}
